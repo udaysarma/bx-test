{
 "cells": [
  {
   "cell_type": "code",
   "execution_count": null,
   "id": "892409d9",
   "metadata": {},
   "outputs": [
    {
     "data": {
      "text/plain": [
       "False"
      ]
     },
     "execution_count": 4,
     "metadata": {},
     "output_type": "execute_result"
    }
   ],
   "source": [
    "import pandas as pd\n",
    "from dotenv import load_dotenv\n",
    "from bs4 import BeautifulSoup\n",
    "import os\n",
    "import json\n",
    "\n",
    "load_dotenv()"
   ]
  },
  {
   "cell_type": "markdown",
   "id": "c8dc9e51",
   "metadata": {},
   "source": [
    "### 1. Get the form we think as search"
   ]
  },
  {
   "cell_type": "code",
   "execution_count": 47,
   "id": "8def3b9a",
   "metadata": {},
   "outputs": [],
   "source": [
    "class FormParser:\n",
    "    def __init__(self, html_content, base_url=None):\n",
    "        self.html_content = html_content\n",
    "        self.base_url = base_url\n",
    "\n",
    "    def strip_forms_and_inputs(self, forms):\n",
    "        for form in forms:\n",
    "            form.pop('css_path')\n",
    "            for input in form['inputs']:\n",
    "                input.pop('css_path')\n",
    "        return forms\n",
    "\n",
    "    def get_css_path(self, element):\n",
    "        \"\"\"\n",
    "        Generate a CSS path for a given BeautifulSoup element\n",
    "        \"\"\"\n",
    "        path = []\n",
    "        \n",
    "        while element and element.name:\n",
    "            # Build selector for current element\n",
    "            selector = element.name\n",
    "            \n",
    "            # Add ID if present\n",
    "            if element.get('id'):\n",
    "                selector += f\"#{element['id']}\"\n",
    "                path.append(selector)\n",
    "                break  # ID is unique, so we can stop here\n",
    "            \n",
    "            # Add classes if present\n",
    "            if element.get('class'):\n",
    "                classes = '.'.join(element['class'])\n",
    "                selector += f\".{classes}\"\n",
    "            \n",
    "            # Add attribute selectors for uniqueness if needed\n",
    "            parent = element.parent\n",
    "            if parent:\n",
    "                siblings = parent.find_all(element.name, recursive=False)\n",
    "                if len(siblings) > 1:\n",
    "                    # Add nth-child selector if there are multiple siblings\n",
    "                    index = siblings.index(element) + 1\n",
    "                    selector += f\":nth-child({index})\"\n",
    "            \n",
    "            path.append(selector)\n",
    "            element = element.parent\n",
    "        \n",
    "        return ' > '.join(reversed(path))\n",
    "\n",
    "    def parse_forms_from_html(self, html_content, base_url=None):\n",
    "        \"\"\"\n",
    "        Parse HTML content and extract form details including input names, action, and method\n",
    "        \"\"\"\n",
    "        soup = BeautifulSoup(html_content, 'html.parser')\n",
    "        forms_data = []\n",
    "        \n",
    "        # Find all forms\n",
    "        forms = soup.find_all('form')\n",
    "        \n",
    "        for i, form in enumerate(forms):\n",
    "            form_info = {\n",
    "                'form_index': i + 1,\n",
    "                'action': form.get('action', ''),\n",
    "                'method': form.get('method', 'GET').upper(),\n",
    "                'id': form.get('id', ''),\n",
    "                'class': form.get('class', []),\n",
    "                'inputs': [],\n",
    "                'css_path': get_css_path(form)\n",
    "            }\n",
    "            \n",
    "            # Make action URL absolute if base_url provided\n",
    "            if base_url and form_info['action']:\n",
    "                form_info['action'] = urljoin(base_url, form_info['action'])\n",
    "            \n",
    "            # Find all form elements (input, select, textarea)\n",
    "            form_elements = form.find_all(['input', 'textarea'])\n",
    "            \n",
    "            for element in form_elements:\n",
    "                element_info = {\n",
    "                    'tag': element.name,\n",
    "                    'name': element.get('name', ''),\n",
    "                    'type': element.get('type', ''),\n",
    "                    'value': element.get('value', ''),\n",
    "                    'id': element.get('id', ''),\n",
    "                    'required': element.has_attr('required'),\n",
    "                    'placeholder': element.get('placeholder', ''),\n",
    "                    'css_path': get_css_path(element)\n",
    "                }\n",
    "                \n",
    "                form_info['inputs'].append(element_info)\n",
    "            \n",
    "            forms_data.append(form_info)\n",
    "        \n",
    "        return forms_data\n"
   ]
  },
  {
   "cell_type": "code",
   "execution_count": 48,
   "id": "42ad6d9c",
   "metadata": {},
   "outputs": [],
   "source": [
    "from pydantic import BaseModel\n",
    "from pydantic import BaseModel, Field\n",
    "from openai import OpenAI\n",
    "client = OpenAI()\n",
    "\n",
    "from langchain_openai import ChatOpenAI\n",
    "model = ChatOpenAI(model=\"gpt-4o\", temperature=0)\n",
    "\n",
    "\n",
    "class SearchInput(BaseModel):\n",
    "    query: str\n",
    "\n",
    "class MatchRequest(BaseModel):\n",
    "    query: str\n",
    "    result: str\n",
    "\n",
    "class MatchResponse(BaseModel):\n",
    "    match: bool\n",
    "\n",
    "\n",
    "class QueryResultMatch:\n",
    "    def __init__(self, prompt: str):\n",
    "        self.prompt = prompt\n",
    "\n",
    "    def check(self, req: MatchRequest) -> MatchResponse:\n",
    "        prompt = f\"\"\"\n",
    "        Query: {req.query}\n",
    "        Result: {req.result}\n",
    "\n",
    "        {self.prompt}\n",
    "        \"\"\"\n",
    "\n",
    "        response = client.responses.create(\n",
    "            model=\"gpt-4\",  # or gpt-3.5-turbo\n",
    "            input=prompt,\n",
    "            temperature=0\n",
    "        )\n",
    "\n",
    "        answer = response.output_text.strip()\n",
    "        match = answer.lower() == \"true\"\n",
    "        return MatchResponse(match=match)\n",
    "\n",
    "\n",
    "class YesNoMatch:\n",
    "    def __init__(self, prompt: str):\n",
    "        self.prompt = prompt\n",
    "\n",
    "    def check(self, req: SearchInput) -> MatchResponse:\n",
    "        prompt = f\"\"\"\n",
    "        Query: {req.query}\n",
    "\n",
    "        {self.prompt}\n",
    "        \"\"\"\n",
    "\n",
    "        response = client.responses.create(\n",
    "            model=\"gpt-4\",  # or gpt-3.5-turbo\n",
    "            input=prompt,\n",
    "            temperature=0\n",
    "        )\n",
    "\n",
    "        answer = response.output_text.strip()\n",
    "        match = answer.lower() == \"true\"\n",
    "        return MatchResponse(match=match)"
   ]
  },
  {
   "cell_type": "code",
   "execution_count": 59,
   "id": "b0ca66ec",
   "metadata": {},
   "outputs": [
    {
     "name": "stdout",
     "output_type": "stream",
     "text": [
      "[<form action=\"\" class=\"aa-Form\" novalidate=\"\" role=\"search\"><div class=\"aa-InputWrapperPrefix\"><label aria-label=\"Submit\" class=\"aa-Label\" for=\"autocomplete-0-input\" id=\"autocomplete-0-label\"><button class=\"aa-SubmitButton\" title=\"Submit\" type=\"submit\"><svg class=\"aa-SubmitIcon\" fill=\"currentColor\" height=\"20\" viewbox=\"0 0 24 24\" width=\"20\"><path d=\"M16.041 15.856c-0.034 0.026-0.067 0.055-0.099 0.087s-0.060 0.064-0.087 0.099c-1.258 1.213-2.969 1.958-4.855 1.958-1.933 0-3.682-0.782-4.95-2.050s-2.050-3.017-2.050-4.95 0.782-3.682 2.050-4.95 3.017-2.050 4.95-2.050 3.682 0.782 4.95 2.050 2.050 3.017 2.050 4.95c0 1.886-0.745 3.597-1.959 4.856zM21.707 20.293l-3.675-3.675c1.231-1.54 1.968-3.493 1.968-5.618 0-2.485-1.008-4.736-2.636-6.364s-3.879-2.636-6.364-2.636-4.736 1.008-6.364 2.636-2.636 3.879-2.636 6.364 1.008 4.736 2.636 6.364 3.879 2.636 6.364 2.636c2.125 0 4.078-0.737 5.618-1.968l3.675 3.675c0.391 0.391 1.024 0.391 1.414 0s0.391-1.024 0-1.414z\"></path></svg></button></label><div class=\"aa-LoadingIndicator\" hidden=\"\"><svg class=\"aa-LoadingIcon\" height=\"20\" viewbox=\"0 0 100 100\" width=\"20\"><circle cx=\"50\" cy=\"50\" fill=\"none\" r=\"35\" stroke=\"currentColor\" stroke-dasharray=\"164.93361431346415 56.97787143782138\" stroke-width=\"6\">\n",
      "<animatetransform attributename=\"transform\" dur=\"1s\" keytimes=\"0;0.40;0.65;1\" repeatcount=\"indefinite\" type=\"rotate\" values=\"0 50 50;90 50 50;180 50 50;360 50 50\"></animatetransform>\n",
      "</circle></svg></div></div><div class=\"aa-InputWrapper\"><input aria-autocomplete=\"both\" aria-labelledby=\"autocomplete-0-label\" autocapitalize=\"off\" autocomplete=\"off\" autocorrect=\"off\" class=\"aa-Input search_input\" enterkeyhint=\"search\" id=\"autocomplete-0-input\" maxlength=\"512\" placeholder=\"Search in JioMart\" spellcheck=\"false\" type=\"search\"/></div><div class=\"aa-InputWrapperSuffix\"><button class=\"aa-ClearButton\" hidden=\"\" title=\"Clear\" type=\"reset\"><svg class=\"aa-ClearIcon\" fill=\"currentColor\" height=\"18\" viewbox=\"0 0 24 24\" width=\"18\"><path d=\"M5.293 6.707l5.293 5.293-5.293 5.293c-0.391 0.391-0.391 1.024 0 1.414s1.024 0.391 1.414 0l5.293-5.293 5.293 5.293c0.391 0.391 1.024 0.391 1.414 0s0.391-1.024 0-1.414l-5.293-5.293 5.293-5.293c0.391-0.391 0.391-1.024 0-1.414s-1.024-0.391-1.414 0l-5.293 5.293-5.293-5.293c-0.391-0.391-1.024-0.391-1.414 0s-0.391 1.024 0 1.414z\"></path></svg></button></div></form>, <form id=\"rel_search_form\"> <div class=\"shopping-list-container\"> <div class=\"shopping-list-subtext\"> Search multiple products by entering your shopping list below. </div> <div class=\"j-field input-textarea input-has-label-left\"> <div class=\"field-underinfo\"> <span class=\"field-description\">Add comma as separator</span> </div> <div class=\"wrapper\"> <textarea class=\"input-component custom-scrollbar\" id=\"rel_search_val\" name=\"shopping-list\" placeholder=\"e.g. Milk, Bread, Fruit\" rows=\"1\" type=\"textarea\"></textarea> <label class=\"field-label\" for=\"shopping-list\">Enter Item List</label> </div> </div> </div> <div class=\"shopping-list-cta\"> <div class=\"shopping-list-cta-item jm-mr-base\"> <button class=\"jm-btn secondary large full-width center shopping-list-cta-button jm-pa-none\" type=\"reset\"> Clear </button> </div> <div class=\"shopping-list-cta-item\"> <button class=\"jm-btn primary large full-width center shopping-list-cta-button jm-pa-none\" type=\"submit\"> Search All </button> </div> </div> </form>, <form id=\"delivery_pincode_form\"> <div class=\"delivery-pincode jm-ph-l jm-pt-l jm-pb-m\"> <div class=\"delivery-pincode-input\"> <div class=\"j-field input-text input-has-prefix input-has-suffix\" id=\"pin_input_holder\"> <span class=\"input-icon input-icon-prefix\"> <img alt=\"\" src=\"https://www.jiomart.com/assets/ds2web/jds-icons/location-gray-icon.svg\"/> </span> <div class=\"field-underinfo\"> <div id=\"delivery_pin_msg\"></div> </div> <input autocomplete=\"off\" class=\"input-component\" id=\"rel_pincode\" maxlength=\"6\" name=\"rel_pincode\" placeholder=\"Enter your Pincode\" type=\"text\" value=\"\"/> <label class=\"field-label\" for=\"pincode\">PIN Code</label> </div> </div> <div class=\"delivery-pincode-cta jm-mt-base jm-ml-l\"> <button class=\"jm-btn primary medium\" disabled=\"\" id=\"btn_pincode_submit\">Apply</button> </div> <div></div> </div> </form>]\n"
     ]
    }
   ],
   "source": [
    "html_content = open('www.jiomart.com.html', 'r').read()\n",
    "soup = BeautifulSoup(html_content, 'html.parser')\n",
    "\n",
    "forms = soup.find_all('form')\n",
    "\n",
    "print(forms)"
   ]
  },
  {
   "cell_type": "code",
   "execution_count": 60,
   "id": "62a527b9",
   "metadata": {},
   "outputs": [
    {
     "name": "stdout",
     "output_type": "stream",
     "text": [
      "[{'form_index': 1, 'action': '', 'method': 'GET', 'id': '', 'class': ['aa-Form'], 'inputs': [{'tag': 'input', 'name': '', 'type': 'search', 'value': '', 'id': 'autocomplete-0-input', 'required': False, 'placeholder': 'Search in JioMart'}]}, {'form_index': 2, 'action': '', 'method': 'GET', 'id': 'rel_search_form', 'class': [], 'inputs': [{'tag': 'textarea', 'name': 'shopping-list', 'type': 'textarea', 'value': '', 'id': 'rel_search_val', 'required': False, 'placeholder': 'e.g. Milk, Bread, Fruit'}]}, {'form_index': 3, 'action': '', 'method': 'GET', 'id': 'delivery_pincode_form', 'class': [], 'inputs': [{'tag': 'input', 'name': 'rel_pincode', 'type': 'text', 'value': '', 'id': 'rel_pincode', 'required': False, 'placeholder': 'Enter your Pincode'}]}]\n"
     ]
    }
   ],
   "source": [
    "form_parser = FormParser(html_content)\n",
    "forms = form_parser.parse_forms_from_html(html_content)\n",
    "stripped_forms = form_parser.strip_forms_and_inputs(forms)\n",
    "print(stripped_forms)"
   ]
  },
  {
   "cell_type": "code",
   "execution_count": 61,
   "id": "875fb4c7",
   "metadata": {},
   "outputs": [],
   "source": [
    "is_search_form = YesNoMatch(prompt=\"\"\"\n",
    "Given a form and its inputs in json parsed format, tell me if it's a search box of a website? Answer only with \"True\" or \"False\".\n",
    "\"\"\")\n"
   ]
  },
  {
   "cell_type": "code",
   "execution_count": 62,
   "id": "ef78eb84",
   "metadata": {},
   "outputs": [
    {
     "name": "stdout",
     "output_type": "stream",
     "text": [
      "{\"form_index\": 1, \"action\": \"\", \"method\": \"GET\", \"id\": \"\", \"class\": [\"aa-Form\"], \"inputs\": [{\"tag\": \"input\", \"name\": \"\", \"type\": \"search\", \"value\": \"\", \"id\": \"autocomplete-0-input\", \"required\": false, \"placeholder\": \"Search in JioMart\"}]}\n",
      "True\n"
     ]
    }
   ],
   "source": [
    "import json\n",
    "\n",
    "idx = 0\n",
    "print(json.dumps(forms[idx]))\n",
    "result = is_search_form.check(SearchInput(query=json.dumps(forms[idx])))\n",
    "print(result.match)"
   ]
  },
  {
   "cell_type": "markdown",
   "id": "a8ad8c8d",
   "metadata": {},
   "source": [
    "### 2. Get the input we think as search"
   ]
  },
  {
   "cell_type": "markdown",
   "id": "e41a848d",
   "metadata": {},
   "source": []
  },
  {
   "cell_type": "code",
   "execution_count": null,
   "id": "0bbcc91c",
   "metadata": {},
   "outputs": [],
   "source": []
  }
 ],
 "metadata": {
  "kernelspec": {
   "display_name": "bx",
   "language": "python",
   "name": "python3"
  },
  "language_info": {
   "codemirror_mode": {
    "name": "ipython",
    "version": 3
   },
   "file_extension": ".py",
   "mimetype": "text/x-python",
   "name": "python",
   "nbconvert_exporter": "python",
   "pygments_lexer": "ipython3",
   "version": "3.12.11"
  }
 },
 "nbformat": 4,
 "nbformat_minor": 5
}
