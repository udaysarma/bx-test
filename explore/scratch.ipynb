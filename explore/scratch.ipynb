{
 "cells": [
  {
   "cell_type": "code",
   "execution_count": 1,
   "id": "892409d9",
   "metadata": {},
   "outputs": [],
   "source": [
    "import pandas as pd\n",
    "from dotenv import load_dotenv\n",
    "from bs4 import BeautifulSoup\n",
    "import os\n",
    "import json\n",
    "\n",
    "load_dotenv()\n",
    "\n",
    "%load_ext autoreload\n",
    "%autoreload 2"
   ]
  },
  {
   "cell_type": "markdown",
   "id": "c8dc9e51",
   "metadata": {},
   "source": [
    "### 1. Get the form we think as search"
   ]
  },
  {
   "cell_type": "code",
   "execution_count": 2,
   "id": "8def3b9a",
   "metadata": {},
   "outputs": [],
   "source": [
    "from helpers.forms import FormParser\n",
    "from helpers.llm import YesNoMatch, QueryResultMatch, SearchInput, MatchRequest, MatchResponse\n",
    "from importlib import reload\n"
   ]
  },
  {
   "cell_type": "code",
   "execution_count": 17,
   "id": "b0ca66ec",
   "metadata": {},
   "outputs": [
    {
     "name": "stdout",
     "output_type": "stream",
     "text": [
      "[<form action=\"/products\" autocomplete=\"off\" method=\"get\"><div class=\"sm-input type-text no-label\"><!-- --><input aria-label=\"Search\" class=\"input empty\" name=\"q\" placeholder=\"Search with Smartprix\" type=\"text\" value=\"\"/><!-- --><!-- --></div><svg class=\"icon i-search\" style=\"\" viewbox=\"0 0 24 24\"><path d=\"M9.5,3A6.5,6.5 0 0,1 16,9.5C16,11.11 15.41,12.59 14.44,13.73L14.71,14H15.5L20.5,19L19,20.5L14,15.5V14.71L13.73,14.44C12.59,15.41 11.11,16 9.5,16A6.5,6.5 0 0,1 3,9.5A6.5,6.5 0 0,1 9.5,3M9.5,5C7,5 5,7 5,9.5C5,12 7,14 9.5,14C12,14 14,12 14,9.5C14,7 12,5 9.5,5Z\"></path></svg></form>]\n"
     ]
    }
   ],
   "source": [
    "html_content = open('./html_files/www.smartprix.com.html', 'r').read()\n",
    "soup = BeautifulSoup(html_content, 'html.parser')\n",
    "\n",
    "forms = soup.find_all('form')\n",
    "\n",
    "print(forms)"
   ]
  },
  {
   "cell_type": "code",
   "execution_count": 18,
   "id": "62a527b9",
   "metadata": {},
   "outputs": [
    {
     "name": "stdout",
     "output_type": "stream",
     "text": [
      "[{'form_index': 1, 'action': '/products', 'method': 'GET', 'id': '', 'class': [], 'inputs': [{'tag': 'input', 'name': 'q', 'type': 'text', 'value': '', 'id': '', 'required': False, 'placeholder': 'Search with Smartprix', 'css_path': 'div#app > header > div.sm-search-header > div.sm-search-bar-wrap:nth-child(1) > div.sm-search-bar > form > div.sm-input.type-text.no-label > input.input.empty'}], 'css_path': 'div#app > header > div.sm-search-header > div.sm-search-bar-wrap:nth-child(1) > div.sm-search-bar > form'}]\n",
      "[{'form_index': 1, 'action': '/products', 'method': 'GET', 'id': '', 'class': [], 'inputs': [{'tag': 'input', 'name': 'q', 'type': 'text', 'value': '', 'id': '', 'required': False, 'placeholder': 'Search with Smartprix'}]}]\n"
     ]
    }
   ],
   "source": [
    "form_parser = FormParser(html_content)\n",
    "forms = form_parser.parse_forms_from_html(html_content)\n",
    "stripped_forms = form_parser.strip_forms_and_inputs(forms)\n",
    "print(forms)\n",
    "print(stripped_forms)"
   ]
  },
  {
   "cell_type": "code",
   "execution_count": 19,
   "id": "875fb4c7",
   "metadata": {},
   "outputs": [],
   "source": [
    "is_search_form = YesNoMatch(prompt=\"\"\"\n",
    "Given a form and its inputs in json parsed format, tell me if it's a search box of a website? Answer only with \"True\" or \"False\".\n",
    "\"\"\")\n"
   ]
  },
  {
   "cell_type": "code",
   "execution_count": 20,
   "id": "ef78eb84",
   "metadata": {},
   "outputs": [
    {
     "name": "stdout",
     "output_type": "stream",
     "text": [
      "{\"form_index\": 1, \"action\": \"/products\", \"method\": \"GET\", \"id\": \"\", \"class\": [], \"inputs\": [{\"tag\": \"input\", \"name\": \"q\", \"type\": \"text\", \"value\": \"\", \"id\": \"\", \"required\": false, \"placeholder\": \"Search with Smartprix\", \"css_path\": \"div#app > header > div.sm-search-header > div.sm-search-bar-wrap:nth-child(1) > div.sm-search-bar > form > div.sm-input.type-text.no-label > input.input.empty\"}], \"css_path\": \"div#app > header > div.sm-search-header > div.sm-search-bar-wrap:nth-child(1) > div.sm-search-bar > form\"}\n",
      "True\n"
     ]
    }
   ],
   "source": [
    "import json\n",
    "\n",
    "idx = 0\n",
    "print(json.dumps(forms[idx]))\n",
    "result = is_search_form.check(SearchInput(query=json.dumps(forms[idx])))\n",
    "print(result.match)"
   ]
  },
  {
   "cell_type": "markdown",
   "id": "a8ad8c8d",
   "metadata": {},
   "source": [
    "### 2. Get the input we think as search"
   ]
  },
  {
   "cell_type": "markdown",
   "id": "e41a848d",
   "metadata": {},
   "source": []
  },
  {
   "cell_type": "code",
   "execution_count": null,
   "id": "0bbcc91c",
   "metadata": {},
   "outputs": [],
   "source": [
    "websites = ['https://www.tatacliq.com', 'https://www.jiomart.com', 'https://www.boat-lifestyle.com', 'https://www.moglix.com', 'https://www.reliancedigital.in', 'https://play.google.com', 'https://www.smartprix.com', 'https://www.swiggy.com', 'https://www.flipkart.com', 'https://blinkit.com', 'https://www.bigbasket.com', 'https://www.91mobiles.com', 'https://www.poorvika.com', 'https://www.zeptonow.com', 'https://dir.indiamart.com', 'https://www.ajio.com', 'https://www.myntra.com', 'https://www.vijaysales.com', 'https://m.snapdeal.com', 'https://www.croma.com', 'https://www.nykaafashion.com']"
   ]
  }
 ],
 "metadata": {
  "kernelspec": {
   "display_name": "bx",
   "language": "python",
   "name": "python3"
  },
  "language_info": {
   "codemirror_mode": {
    "name": "ipython",
    "version": 3
   },
   "file_extension": ".py",
   "mimetype": "text/x-python",
   "name": "python",
   "nbconvert_exporter": "python",
   "pygments_lexer": "ipython3",
   "version": "3.12.11"
  }
 },
 "nbformat": 4,
 "nbformat_minor": 5
}
